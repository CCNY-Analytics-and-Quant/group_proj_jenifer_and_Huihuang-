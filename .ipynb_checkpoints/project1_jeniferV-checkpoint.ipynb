{
 "cells": [
  {
   "cell_type": "code",
   "execution_count": 1,
   "id": "2ac50c6e-6f0b-46ef-81b9-f9e91c5cccb4",
   "metadata": {},
   "outputs": [
    {
     "name": "stderr",
     "output_type": "stream",
     "text": [
      "/Users/jenifervivar/opt/anaconda3/lib/python3.9/site-packages/scipy/__init__.py:146: UserWarning: A NumPy version >=1.16.5 and <1.23.0 is required for this version of SciPy (detected version 1.23.1\n",
      "  warnings.warn(f\"A NumPy version >={np_minversion} and <{np_maxversion}\"\n"
     ]
    }
   ],
   "source": [
    "import yfinance as yf\n",
    "import pandas as pd\n",
    "import numpy as np\n",
    "import seaborn as sns\n",
    "import matplotlib.pyplot as plt\n",
    "from datetime import date, timedelta"
   ]
  },
  {
   "cell_type": "code",
   "execution_count": 2,
   "id": "5f8c5b05-93aa-4b0e-8761-28d0e336859e",
   "metadata": {},
   "outputs": [
    {
     "name": "stdout",
     "output_type": "stream",
     "text": [
      "[*********************100%***********************]  10 of 10 completed\n"
     ]
    },
    {
     "data": {
      "text/html": [
       "<div>\n",
       "<style scoped>\n",
       "    .dataframe tbody tr th:only-of-type {\n",
       "        vertical-align: middle;\n",
       "    }\n",
       "\n",
       "    .dataframe tbody tr th {\n",
       "        vertical-align: top;\n",
       "    }\n",
       "\n",
       "    .dataframe thead th {\n",
       "        text-align: right;\n",
       "    }\n",
       "</style>\n",
       "<table border=\"1\" class=\"dataframe\">\n",
       "  <thead>\n",
       "    <tr style=\"text-align: right;\">\n",
       "      <th></th>\n",
       "      <th>AAPL</th>\n",
       "      <th>AUY</th>\n",
       "      <th>DIA</th>\n",
       "      <th>GE</th>\n",
       "      <th>IWM</th>\n",
       "      <th>MSFT</th>\n",
       "      <th>NFLX</th>\n",
       "      <th>PLUG</th>\n",
       "      <th>SPY</th>\n",
       "      <th>TSLA</th>\n",
       "    </tr>\n",
       "    <tr>\n",
       "      <th>Date</th>\n",
       "      <th></th>\n",
       "      <th></th>\n",
       "      <th></th>\n",
       "      <th></th>\n",
       "      <th></th>\n",
       "      <th></th>\n",
       "      <th></th>\n",
       "      <th></th>\n",
       "      <th></th>\n",
       "      <th></th>\n",
       "    </tr>\n",
       "  </thead>\n",
       "  <tbody>\n",
       "    <tr>\n",
       "      <th>2020-01-02</th>\n",
       "      <td>73.785919</td>\n",
       "      <td>3.705322</td>\n",
       "      <td>275.016510</td>\n",
       "      <td>94.461693</td>\n",
       "      <td>161.172165</td>\n",
       "      <td>156.924377</td>\n",
       "      <td>329.809998</td>\n",
       "      <td>3.240000</td>\n",
       "      <td>312.395050</td>\n",
       "      <td>86.052002</td>\n",
       "    </tr>\n",
       "    <tr>\n",
       "      <th>2020-01-03</th>\n",
       "      <td>73.068565</td>\n",
       "      <td>3.676893</td>\n",
       "      <td>272.824982</td>\n",
       "      <td>94.778412</td>\n",
       "      <td>160.540222</td>\n",
       "      <td>154.970413</td>\n",
       "      <td>325.899994</td>\n",
       "      <td>3.230000</td>\n",
       "      <td>310.029572</td>\n",
       "      <td>88.601997</td>\n",
       "    </tr>\n",
       "    <tr>\n",
       "      <th>2020-01-06</th>\n",
       "      <td>73.650803</td>\n",
       "      <td>3.667416</td>\n",
       "      <td>273.453857</td>\n",
       "      <td>96.124481</td>\n",
       "      <td>160.754120</td>\n",
       "      <td>155.370987</td>\n",
       "      <td>335.829987</td>\n",
       "      <td>3.820000</td>\n",
       "      <td>311.212311</td>\n",
       "      <td>90.307999</td>\n",
       "    </tr>\n",
       "    <tr>\n",
       "      <th>2020-01-07</th>\n",
       "      <td>73.304405</td>\n",
       "      <td>3.724276</td>\n",
       "      <td>272.272217</td>\n",
       "      <td>95.411858</td>\n",
       "      <td>160.219391</td>\n",
       "      <td>153.954346</td>\n",
       "      <td>330.750000</td>\n",
       "      <td>3.810000</td>\n",
       "      <td>310.337219</td>\n",
       "      <td>93.811996</td>\n",
       "    </tr>\n",
       "    <tr>\n",
       "      <th>2020-01-08</th>\n",
       "      <td>74.483597</td>\n",
       "      <td>3.515791</td>\n",
       "      <td>273.854004</td>\n",
       "      <td>94.540863</td>\n",
       "      <td>160.715210</td>\n",
       "      <td>156.406586</td>\n",
       "      <td>339.260010</td>\n",
       "      <td>4.080000</td>\n",
       "      <td>311.991211</td>\n",
       "      <td>98.428001</td>\n",
       "    </tr>\n",
       "    <tr>\n",
       "      <th>...</th>\n",
       "      <td>...</td>\n",
       "      <td>...</td>\n",
       "      <td>...</td>\n",
       "      <td>...</td>\n",
       "      <td>...</td>\n",
       "      <td>...</td>\n",
       "      <td>...</td>\n",
       "      <td>...</td>\n",
       "      <td>...</td>\n",
       "      <td>...</td>\n",
       "    </tr>\n",
       "    <tr>\n",
       "      <th>2020-12-23</th>\n",
       "      <td>129.801270</td>\n",
       "      <td>5.468959</td>\n",
       "      <td>293.324799</td>\n",
       "      <td>86.425804</td>\n",
       "      <td>196.364899</td>\n",
       "      <td>218.222198</td>\n",
       "      <td>514.479980</td>\n",
       "      <td>36.139999</td>\n",
       "      <td>360.056091</td>\n",
       "      <td>645.979980</td>\n",
       "    </tr>\n",
       "    <tr>\n",
       "      <th>2020-12-24</th>\n",
       "      <td>130.802353</td>\n",
       "      <td>5.430648</td>\n",
       "      <td>294.045197</td>\n",
       "      <td>84.754585</td>\n",
       "      <td>196.236725</td>\n",
       "      <td>219.930298</td>\n",
       "      <td>513.969971</td>\n",
       "      <td>35.580002</td>\n",
       "      <td>361.456848</td>\n",
       "      <td>661.770020</td>\n",
       "    </tr>\n",
       "    <tr>\n",
       "      <th>2020-12-28</th>\n",
       "      <td>135.480576</td>\n",
       "      <td>5.392336</td>\n",
       "      <td>295.972961</td>\n",
       "      <td>84.675011</td>\n",
       "      <td>195.507019</td>\n",
       "      <td>222.112335</td>\n",
       "      <td>519.119995</td>\n",
       "      <td>33.570000</td>\n",
       "      <td>364.562042</td>\n",
       "      <td>663.690002</td>\n",
       "    </tr>\n",
       "    <tr>\n",
       "      <th>2020-12-29</th>\n",
       "      <td>133.676666</td>\n",
       "      <td>5.401915</td>\n",
       "      <td>295.447144</td>\n",
       "      <td>84.038353</td>\n",
       "      <td>191.720535</td>\n",
       "      <td>221.312592</td>\n",
       "      <td>530.869995</td>\n",
       "      <td>32.459999</td>\n",
       "      <td>363.866547</td>\n",
       "      <td>665.989990</td>\n",
       "    </tr>\n",
       "    <tr>\n",
       "      <th>2020-12-30</th>\n",
       "      <td>132.536850</td>\n",
       "      <td>5.648243</td>\n",
       "      <td>296.099548</td>\n",
       "      <td>85.232079</td>\n",
       "      <td>193.672958</td>\n",
       "      <td>218.873840</td>\n",
       "      <td>524.590027</td>\n",
       "      <td>34.189999</td>\n",
       "      <td>364.385773</td>\n",
       "      <td>694.780029</td>\n",
       "    </tr>\n",
       "  </tbody>\n",
       "</table>\n",
       "<p>252 rows × 10 columns</p>\n",
       "</div>"
      ],
      "text/plain": [
       "                  AAPL       AUY         DIA         GE         IWM  \\\n",
       "Date                                                                  \n",
       "2020-01-02   73.785919  3.705322  275.016510  94.461693  161.172165   \n",
       "2020-01-03   73.068565  3.676893  272.824982  94.778412  160.540222   \n",
       "2020-01-06   73.650803  3.667416  273.453857  96.124481  160.754120   \n",
       "2020-01-07   73.304405  3.724276  272.272217  95.411858  160.219391   \n",
       "2020-01-08   74.483597  3.515791  273.854004  94.540863  160.715210   \n",
       "...                ...       ...         ...        ...         ...   \n",
       "2020-12-23  129.801270  5.468959  293.324799  86.425804  196.364899   \n",
       "2020-12-24  130.802353  5.430648  294.045197  84.754585  196.236725   \n",
       "2020-12-28  135.480576  5.392336  295.972961  84.675011  195.507019   \n",
       "2020-12-29  133.676666  5.401915  295.447144  84.038353  191.720535   \n",
       "2020-12-30  132.536850  5.648243  296.099548  85.232079  193.672958   \n",
       "\n",
       "                  MSFT        NFLX       PLUG         SPY        TSLA  \n",
       "Date                                                                   \n",
       "2020-01-02  156.924377  329.809998   3.240000  312.395050   86.052002  \n",
       "2020-01-03  154.970413  325.899994   3.230000  310.029572   88.601997  \n",
       "2020-01-06  155.370987  335.829987   3.820000  311.212311   90.307999  \n",
       "2020-01-07  153.954346  330.750000   3.810000  310.337219   93.811996  \n",
       "2020-01-08  156.406586  339.260010   4.080000  311.991211   98.428001  \n",
       "...                ...         ...        ...         ...         ...  \n",
       "2020-12-23  218.222198  514.479980  36.139999  360.056091  645.979980  \n",
       "2020-12-24  219.930298  513.969971  35.580002  361.456848  661.770020  \n",
       "2020-12-28  222.112335  519.119995  33.570000  364.562042  663.690002  \n",
       "2020-12-29  221.312592  530.869995  32.459999  363.866547  665.989990  \n",
       "2020-12-30  218.873840  524.590027  34.189999  364.385773  694.780029  \n",
       "\n",
       "[252 rows x 10 columns]"
      ]
     },
     "execution_count": 2,
     "metadata": {},
     "output_type": "execute_result"
    }
   ],
   "source": [
    "stocks = ['AAPL', 'MSFT', 'TSLA', 'NFLX', 'GE', 'AUY', 'PLUG', \"SPY\", \"IWM\", \"DIA\"]\n",
    "tickers = ['AAPL', 'MSFT', 'TSLA', 'NFLX', 'GE', 'AUY', 'PLUG']\n",
    "benches = [\"SPY\", \"IWM\", \"DIA\"]\n",
    "data = yf.download(stocks, start=\"2020-01-01\", end=\"2020-12-31\")[\"Adj Close\"] #ad_close\n",
    "data"
   ]
  },
  {
   "cell_type": "markdown",
   "id": "cc964a25-291a-4010-b56d-d3d883731f55",
   "metadata": {},
   "source": [
    "# Part 1"
   ]
  },
  {
   "cell_type": "code",
   "execution_count": 20,
   "id": "43c5380e-fb88-4c91-bbea-14a192dbf7ab",
   "metadata": {},
   "outputs": [],
   "source": [
    "weight =[1,1,1,1,1,1,1]"
   ]
  },
  {
   "cell_type": "markdown",
   "id": "e7bdb616-7412-40b3-8c5b-47374bdb61e9",
   "metadata": {},
   "source": [
    "## Volatility\n"
   ]
  },
  {
   "cell_type": "code",
   "execution_count": 63,
   "id": "d228d764-4bce-455f-a7b7-120359257269",
   "metadata": {},
   "outputs": [
    {
     "data": {
      "text/plain": [
       "array([ 3.49940079,  1.84446464,  8.10818243,  1.98081315,  5.81164953,\n",
       "        4.11938527, 10.37034696])"
      ]
     },
     "execution_count": 63,
     "metadata": {},
     "output_type": "execute_result"
    }
   ],
   "source": [
    "returnn = data[tickers].pct_change(66)\n",
    "volatility = returnn.std()\n",
    "volatility_annual = (volatility*np.sqrt(252)).to_numpy()\n",
    "volatility_annual"
   ]
  },
  {
   "cell_type": "markdown",
   "id": "74f9671b-3555-47d4-84e3-9498218a2ce7",
   "metadata": {},
   "source": [
    "## total & annual return"
   ]
  },
  {
   "cell_type": "markdown",
   "id": "459b7cab-4688-47ef-bb24-61b084bb133b",
   "metadata": {},
   "source": [
    "Daily_pct_change = todays_price - yesterdays_price/yesterdays_price *100\n",
    "annualized% = need to multiply our daily standard deviation by the square root of 252"
   ]
  },
  {
   "cell_type": "code",
   "execution_count": 46,
   "id": "461cc5d0-3380-4e4c-aa7c-7f9c9fa90cda",
   "metadata": {},
   "outputs": [
    {
     "name": "stdout",
     "output_type": "stream",
     "text": [
      "[*********************100%***********************]  10 of 10 completed\n",
      "[ 108.58055355  145.30039506 1759.09916676  239.36282513   -7.57582519\n",
      "   -9.66012199  210.78586238] [  6.83993195   9.15306454 110.81283159  15.07844068  -0.47723213\n",
      "  -0.60853049  13.27826123]\n"
     ]
    }
   ],
   "source": [
    "data2 = yf.download(stocks, period ='10y')[\"Adj Close\"]\n",
    "annualized_pct= ((data2[tickers].pct_change(len(data2)-1).iloc[-1])*np.sqrt(252)).to_numpy()\n",
    "total_return = (data2[tickers].pct_change(len(data2)-1).iloc[-1]).to_numpy()\n",
    "print(annualized_pct,total_return)"
   ]
  },
  {
   "cell_type": "markdown",
   "id": "fbce1f96-2d55-43ed-ad21-49f20c31a7f2",
   "metadata": {},
   "source": [
    "## Beta\n",
    "Beta is a measure of a stock’s volatility in relation to the overall market (S&P 500). The S&P 500 index has Beta 1.\n",
    "High-beta stocks are supposed to be riskier but provide higher potential return. While, low-beta stocks pose less risk but also lower returns.\n",
    "\n",
    "**Beta above 1: stock is more volatile than the market, but expects higher return.**\n",
    "**Beta below 1: stock with lower volatility, and expects less return.**"
   ]
  },
  {
   "cell_type": "code",
   "execution_count": null,
   "id": "7e5d53c0-0157-41d8-911d-987f363b2745",
   "metadata": {},
   "outputs": [],
   "source": [
    "log_returns = np.log(data/data.shift())\n",
    "cov = log_returns.cov()\n",
    "beta_SPY =[]\n",
    "beta_IWM = []\n",
    "beta_DIA = []\n",
    "for stock in tickers:\n",
    "    var = log_returns[stock].var()\n",
    "    for bench in benches:\n",
    "        beta = cov.loc[bench, stock]/var\n",
    "        if bench == 'SPY':\n",
    "            beta_SPY.append(beta)\n",
    "        if bench == 'IWM':\n",
    "            beta_IWM.append(beta)\n",
    "        if bench =='DIA':\n",
    "            beta_DIA.append(beta)"
   ]
  },
  {
   "cell_type": "code",
   "execution_count": null,
   "id": "d1c2d0d9-d62b-4596-a6bc-7c6ba402ed90",
   "metadata": {},
   "outputs": [],
   "source": []
  },
  {
   "cell_type": "markdown",
   "id": "9566b6a3-13d8-4083-b1f8-5376219d7baa",
   "metadata": {},
   "source": [
    "## Max Drawdown — \n",
    "The worst possible return one could see, if they had bought high and sold low.\n",
    "Maximum drawdown measures the maximum fall in the value of the investment, as given by the difference between the value of the lowest trough and that of the highest peak before the trough."
   ]
  },
  {
   "cell_type": "code",
   "execution_count": 7,
   "id": "99168d44-23c1-497c-8cb8-3001eb9ee380",
   "metadata": {},
   "outputs": [],
   "source": [
    "def Max_drawdown(df, window=5, draw_type = 'max') :\n",
    "    if draw_type =='avg':\n",
    "         Roll_Max = df.rolling(window,min_periods=1).mean()\n",
    "    else:\n",
    "        Roll_Max = df.rolling(window,min_periods=1).max()\n",
    "        \n",
    "    Daily_Drawdown= df/Roll_Max -1\n",
    "\n",
    "    Max_Daily_Drawdown = Daily_Drawdown.rolling(window, min_periods=1).min()\n",
    "    \n",
    "    return Max_Daily_Drawdown"
   ]
  },
  {
   "cell_type": "code",
   "execution_count": 8,
   "id": "71f0694f-0a47-4742-99b3-c5e3f40a5fc0",
   "metadata": {},
   "outputs": [
    {
     "data": {
      "text/plain": [
       "array([[-0.04105441, -0.03968375, -0.0813381 , -0.04553247, -0.07227611,\n",
       "        -0.06962732, -0.08661327]])"
      ]
     },
     "execution_count": 8,
     "metadata": {},
     "output_type": "execute_result"
    }
   ],
   "source": [
    "max_drawdown = (Max_drawdown(data[tickers]).resample('Y').mean()).to_numpy()\n",
    "max_drawdown"
   ]
  },
  {
   "cell_type": "code",
   "execution_count": 9,
   "id": "70aeb422-817e-4ecc-b87f-6f689034e1a8",
   "metadata": {},
   "outputs": [
    {
     "data": {
      "text/plain": [
       "array([[-0.01827056, -0.01752702, -0.03405567, -0.02041568, -0.0343981 ,\n",
       "        -0.03321462, -0.03533574]])"
      ]
     },
     "execution_count": 9,
     "metadata": {},
     "output_type": "execute_result"
    }
   ],
   "source": [
    "avg_drawdown = (Max_drawdown(data[tickers], draw_type = 'avg').resample('Y').mean()).to_numpy()\n",
    "avg_drawdown"
   ]
  },
  {
   "cell_type": "markdown",
   "id": "a30de8f6-4702-4b04-afb6-78295888e540",
   "metadata": {},
   "source": [
    "Here we got the logarithmic return, or continuously compounded return. This return is the nominal return with the interest compounding every millisecond. To see how it is close to effective interest rate. Here we calculated the daily logarithmic return."
   ]
  },
  {
   "cell_type": "code",
   "execution_count": 65,
   "id": "d79e211e-5815-40e3-a586-086feceda595",
   "metadata": {},
   "outputs": [
    {
     "data": {
      "text/plain": [
       "array([ 108.58055355,  145.30039506, 1759.09916676,  239.36282513,\n",
       "         -7.57582519,   -9.66012199,  210.78586238])"
      ]
     },
     "execution_count": 65,
     "metadata": {},
     "output_type": "execute_result"
    }
   ],
   "source": [
    "annualized_pct"
   ]
  },
  {
   "cell_type": "markdown",
   "id": "a5dcd61c-6ad3-4d6a-84d2-630bf3276ee0",
   "metadata": {},
   "source": [
    "#annulaized return\n",
    "\n",
    "Annualized Return=(1+Cumulative Return)^(365/Days Held)\t −1"
   ]
  },
  {
   "cell_type": "code",
   "execution_count": 66,
   "id": "d8146e35-2451-49f8-8428-df5c170ebfd2",
   "metadata": {},
   "outputs": [
    {
     "data": {
      "text/html": [
       "<div>\n",
       "<style scoped>\n",
       "    .dataframe tbody tr th:only-of-type {\n",
       "        vertical-align: middle;\n",
       "    }\n",
       "\n",
       "    .dataframe tbody tr th {\n",
       "        vertical-align: top;\n",
       "    }\n",
       "\n",
       "    .dataframe thead th {\n",
       "        text-align: right;\n",
       "    }\n",
       "</style>\n",
       "<table border=\"1\" class=\"dataframe\">\n",
       "  <thead>\n",
       "    <tr style=\"text-align: right;\">\n",
       "      <th></th>\n",
       "      <th>Tickers</th>\n",
       "      <th>Weight</th>\n",
       "      <th>annual_volatility</th>\n",
       "      <th>beta_SPY</th>\n",
       "      <th>beta_IWM</th>\n",
       "      <th>beta_DIA</th>\n",
       "      <th>avg_draw</th>\n",
       "      <th>max_draw</th>\n",
       "      <th>Total_Return</th>\n",
       "      <th>Annualized_return</th>\n",
       "    </tr>\n",
       "  </thead>\n",
       "  <tbody>\n",
       "    <tr>\n",
       "      <th>0</th>\n",
       "      <td>AAPL</td>\n",
       "      <td>1</td>\n",
       "      <td>3.499401</td>\n",
       "      <td>0.600835</td>\n",
       "      <td>0.583039</td>\n",
       "      <td>0.613052</td>\n",
       "      <td>-0.018271</td>\n",
       "      <td>-0.041054</td>\n",
       "      <td>6.839932</td>\n",
       "      <td>108.580554</td>\n",
       "    </tr>\n",
       "    <tr>\n",
       "      <th>1</th>\n",
       "      <td>MSFT</td>\n",
       "      <td>1</td>\n",
       "      <td>1.844465</td>\n",
       "      <td>0.670543</td>\n",
       "      <td>0.656226</td>\n",
       "      <td>0.686987</td>\n",
       "      <td>-0.017527</td>\n",
       "      <td>-0.039684</td>\n",
       "      <td>9.153065</td>\n",
       "      <td>145.300395</td>\n",
       "    </tr>\n",
       "    <tr>\n",
       "      <th>2</th>\n",
       "      <td>TSLA</td>\n",
       "      <td>1</td>\n",
       "      <td>8.108182</td>\n",
       "      <td>0.185986</td>\n",
       "      <td>0.214848</td>\n",
       "      <td>0.187835</td>\n",
       "      <td>-0.034056</td>\n",
       "      <td>-0.081338</td>\n",
       "      <td>110.812832</td>\n",
       "      <td>1759.099167</td>\n",
       "    </tr>\n",
       "    <tr>\n",
       "      <th>3</th>\n",
       "      <td>NFLX</td>\n",
       "      <td>1</td>\n",
       "      <td>1.980813</td>\n",
       "      <td>0.359710</td>\n",
       "      <td>0.334870</td>\n",
       "      <td>0.336624</td>\n",
       "      <td>-0.020416</td>\n",
       "      <td>-0.045532</td>\n",
       "      <td>15.078441</td>\n",
       "      <td>239.362825</td>\n",
       "    </tr>\n",
       "    <tr>\n",
       "      <th>4</th>\n",
       "      <td>GE</td>\n",
       "      <td>1</td>\n",
       "      <td>5.811650</td>\n",
       "      <td>0.369178</td>\n",
       "      <td>0.486225</td>\n",
       "      <td>0.434747</td>\n",
       "      <td>-0.034398</td>\n",
       "      <td>-0.072276</td>\n",
       "      <td>-0.477232</td>\n",
       "      <td>-7.575825</td>\n",
       "    </tr>\n",
       "    <tr>\n",
       "      <th>5</th>\n",
       "      <td>AUY</td>\n",
       "      <td>1</td>\n",
       "      <td>4.119385</td>\n",
       "      <td>0.143555</td>\n",
       "      <td>0.146942</td>\n",
       "      <td>0.137052</td>\n",
       "      <td>-0.033215</td>\n",
       "      <td>-0.069627</td>\n",
       "      <td>-0.608530</td>\n",
       "      <td>-9.660122</td>\n",
       "    </tr>\n",
       "    <tr>\n",
       "      <th>6</th>\n",
       "      <td>PLUG</td>\n",
       "      <td>1</td>\n",
       "      <td>10.370347</td>\n",
       "      <td>0.175357</td>\n",
       "      <td>0.230744</td>\n",
       "      <td>0.192523</td>\n",
       "      <td>-0.035336</td>\n",
       "      <td>-0.086613</td>\n",
       "      <td>13.278261</td>\n",
       "      <td>210.785862</td>\n",
       "    </tr>\n",
       "  </tbody>\n",
       "</table>\n",
       "</div>"
      ],
      "text/plain": [
       "  Tickers  Weight  annual_volatility  beta_SPY  beta_IWM  beta_DIA  avg_draw  \\\n",
       "0    AAPL       1           3.499401  0.600835  0.583039  0.613052 -0.018271   \n",
       "1    MSFT       1           1.844465  0.670543  0.656226  0.686987 -0.017527   \n",
       "2    TSLA       1           8.108182  0.185986  0.214848  0.187835 -0.034056   \n",
       "3    NFLX       1           1.980813  0.359710  0.334870  0.336624 -0.020416   \n",
       "4      GE       1           5.811650  0.369178  0.486225  0.434747 -0.034398   \n",
       "5     AUY       1           4.119385  0.143555  0.146942  0.137052 -0.033215   \n",
       "6    PLUG       1          10.370347  0.175357  0.230744  0.192523 -0.035336   \n",
       "\n",
       "   max_draw  Total_Return  Annualized_return  \n",
       "0 -0.041054      6.839932         108.580554  \n",
       "1 -0.039684      9.153065         145.300395  \n",
       "2 -0.081338    110.812832        1759.099167  \n",
       "3 -0.045532     15.078441         239.362825  \n",
       "4 -0.072276     -0.477232          -7.575825  \n",
       "5 -0.069627     -0.608530          -9.660122  \n",
       "6 -0.086613     13.278261         210.785862  "
      ]
     },
     "execution_count": 66,
     "metadata": {},
     "output_type": "execute_result"
    }
   ],
   "source": [
    "vals = {'Tickers': tickers, \"Weight\": weight, \"annual_volatility\":volatility_annual, \"beta_SPY\":beta_SPY, \"beta_IWM\":beta_IWM,\n",
    "       \"beta_DIA\": beta_DIA, \"avg_draw\":avg_drawdown[0], \"max_draw\":max_drawdown[0], \"Total_Return\": total_return,\n",
    "        \"Annualized_return\":annualized_pct}\n",
    "risk_table = pd.DataFrame(vals)\n",
    "risk_table"
   ]
  },
  {
   "cell_type": "code",
   "execution_count": null,
   "id": "4e20336a-05e4-4441-a8e1-ee891bea1270",
   "metadata": {},
   "outputs": [],
   "source": []
  },
  {
   "cell_type": "markdown",
   "id": "c05ff0a8-132b-4aab-b2ec-475741269146",
   "metadata": {},
   "source": [
    "# part 2"
   ]
  },
  {
   "cell_type": "code",
   "execution_count": null,
   "id": "65074961-c35c-490b-b423-6a52cc4d9389",
   "metadata": {},
   "outputs": [],
   "source": []
  }
 ],
 "metadata": {
  "kernelspec": {
   "display_name": "Python 3 (ipykernel)",
   "language": "python",
   "name": "python3"
  },
  "language_info": {
   "codemirror_mode": {
    "name": "ipython",
    "version": 3
   },
   "file_extension": ".py",
   "mimetype": "text/x-python",
   "name": "python",
   "nbconvert_exporter": "python",
   "pygments_lexer": "ipython3",
   "version": "3.9.12"
  }
 },
 "nbformat": 4,
 "nbformat_minor": 5
}
