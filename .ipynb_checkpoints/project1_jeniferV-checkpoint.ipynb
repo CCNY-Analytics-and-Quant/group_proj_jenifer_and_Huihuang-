{
 "cells": [
  {
   "cell_type": "code",
   "execution_count": 1,
   "id": "2ac50c6e-6f0b-46ef-81b9-f9e91c5cccb4",
   "metadata": {},
   "outputs": [],
   "source": [
    "import yfinance as yf\n",
    "import pandas as pd\n",
    "import numpy as np\n",
    "import seaborn as sns\n",
    "import matplotlib.pyplot as plt\n",
    "from datetime import date, timedelta"
   ]
  },
  {
   "cell_type": "code",
   "execution_count": 2,
   "id": "5f8c5b05-93aa-4b0e-8761-28d0e336859e",
   "metadata": {},
   "outputs": [
    {
     "name": "stdout",
     "output_type": "stream",
     "text": [
      "[*********************100%***********************]  10 of 10 completed\n"
     ]
    },
    {
     "data": {
      "text/html": [
       "<div>\n",
       "<style scoped>\n",
       "    .dataframe tbody tr th:only-of-type {\n",
       "        vertical-align: middle;\n",
       "    }\n",
       "\n",
       "    .dataframe tbody tr th {\n",
       "        vertical-align: top;\n",
       "    }\n",
       "\n",
       "    .dataframe thead th {\n",
       "        text-align: right;\n",
       "    }\n",
       "</style>\n",
       "<table border=\"1\" class=\"dataframe\">\n",
       "  <thead>\n",
       "    <tr style=\"text-align: right;\">\n",
       "      <th></th>\n",
       "      <th>AAPL</th>\n",
       "      <th>AUY</th>\n",
       "      <th>DIA</th>\n",
       "      <th>GE</th>\n",
       "      <th>IWM</th>\n",
       "      <th>MSFT</th>\n",
       "      <th>NFLX</th>\n",
       "      <th>PLUG</th>\n",
       "      <th>SPY</th>\n",
       "      <th>TSLA</th>\n",
       "    </tr>\n",
       "    <tr>\n",
       "      <th>Date</th>\n",
       "      <th></th>\n",
       "      <th></th>\n",
       "      <th></th>\n",
       "      <th></th>\n",
       "      <th></th>\n",
       "      <th></th>\n",
       "      <th></th>\n",
       "      <th></th>\n",
       "      <th></th>\n",
       "      <th></th>\n",
       "    </tr>\n",
       "  </thead>\n",
       "  <tbody>\n",
       "    <tr>\n",
       "      <th>2020-01-02</th>\n",
       "      <td>73.785927</td>\n",
       "      <td>3.705322</td>\n",
       "      <td>275.016571</td>\n",
       "      <td>94.461693</td>\n",
       "      <td>161.172134</td>\n",
       "      <td>156.924393</td>\n",
       "      <td>329.809998</td>\n",
       "      <td>3.240000</td>\n",
       "      <td>312.394989</td>\n",
       "      <td>86.052002</td>\n",
       "    </tr>\n",
       "    <tr>\n",
       "      <th>2020-01-03</th>\n",
       "      <td>73.068565</td>\n",
       "      <td>3.676893</td>\n",
       "      <td>272.824982</td>\n",
       "      <td>94.778419</td>\n",
       "      <td>160.540222</td>\n",
       "      <td>154.970398</td>\n",
       "      <td>325.899994</td>\n",
       "      <td>3.230000</td>\n",
       "      <td>310.029541</td>\n",
       "      <td>88.601997</td>\n",
       "    </tr>\n",
       "    <tr>\n",
       "      <th>2020-01-06</th>\n",
       "      <td>73.650795</td>\n",
       "      <td>3.667416</td>\n",
       "      <td>273.453766</td>\n",
       "      <td>96.124489</td>\n",
       "      <td>160.754105</td>\n",
       "      <td>155.370972</td>\n",
       "      <td>335.829987</td>\n",
       "      <td>3.820000</td>\n",
       "      <td>311.212250</td>\n",
       "      <td>90.307999</td>\n",
       "    </tr>\n",
       "    <tr>\n",
       "      <th>2020-01-07</th>\n",
       "      <td>73.304413</td>\n",
       "      <td>3.724275</td>\n",
       "      <td>272.272186</td>\n",
       "      <td>95.411850</td>\n",
       "      <td>160.219376</td>\n",
       "      <td>153.954376</td>\n",
       "      <td>330.750000</td>\n",
       "      <td>3.810000</td>\n",
       "      <td>310.337280</td>\n",
       "      <td>93.811996</td>\n",
       "    </tr>\n",
       "    <tr>\n",
       "      <th>2020-01-08</th>\n",
       "      <td>74.483604</td>\n",
       "      <td>3.515791</td>\n",
       "      <td>273.854034</td>\n",
       "      <td>94.540871</td>\n",
       "      <td>160.715195</td>\n",
       "      <td>156.406586</td>\n",
       "      <td>339.260010</td>\n",
       "      <td>4.080000</td>\n",
       "      <td>311.991211</td>\n",
       "      <td>98.428001</td>\n",
       "    </tr>\n",
       "    <tr>\n",
       "      <th>...</th>\n",
       "      <td>...</td>\n",
       "      <td>...</td>\n",
       "      <td>...</td>\n",
       "      <td>...</td>\n",
       "      <td>...</td>\n",
       "      <td>...</td>\n",
       "      <td>...</td>\n",
       "      <td>...</td>\n",
       "      <td>...</td>\n",
       "      <td>...</td>\n",
       "    </tr>\n",
       "    <tr>\n",
       "      <th>2020-12-23</th>\n",
       "      <td>129.801285</td>\n",
       "      <td>5.468959</td>\n",
       "      <td>293.324707</td>\n",
       "      <td>86.425797</td>\n",
       "      <td>196.364914</td>\n",
       "      <td>218.222198</td>\n",
       "      <td>514.479980</td>\n",
       "      <td>36.139999</td>\n",
       "      <td>360.056091</td>\n",
       "      <td>645.979980</td>\n",
       "    </tr>\n",
       "    <tr>\n",
       "      <th>2020-12-24</th>\n",
       "      <td>130.802338</td>\n",
       "      <td>5.430648</td>\n",
       "      <td>294.045197</td>\n",
       "      <td>84.754585</td>\n",
       "      <td>196.236694</td>\n",
       "      <td>219.930283</td>\n",
       "      <td>513.969971</td>\n",
       "      <td>35.580002</td>\n",
       "      <td>361.456848</td>\n",
       "      <td>661.770020</td>\n",
       "    </tr>\n",
       "    <tr>\n",
       "      <th>2020-12-28</th>\n",
       "      <td>135.480560</td>\n",
       "      <td>5.392336</td>\n",
       "      <td>295.972961</td>\n",
       "      <td>84.675003</td>\n",
       "      <td>195.507034</td>\n",
       "      <td>222.112350</td>\n",
       "      <td>519.119995</td>\n",
       "      <td>33.570000</td>\n",
       "      <td>364.562073</td>\n",
       "      <td>663.690002</td>\n",
       "    </tr>\n",
       "    <tr>\n",
       "      <th>2020-12-29</th>\n",
       "      <td>133.676666</td>\n",
       "      <td>5.401914</td>\n",
       "      <td>295.447144</td>\n",
       "      <td>84.038345</td>\n",
       "      <td>191.720520</td>\n",
       "      <td>221.312592</td>\n",
       "      <td>530.869995</td>\n",
       "      <td>32.459999</td>\n",
       "      <td>363.866577</td>\n",
       "      <td>665.989990</td>\n",
       "    </tr>\n",
       "    <tr>\n",
       "      <th>2020-12-30</th>\n",
       "      <td>132.536850</td>\n",
       "      <td>5.648243</td>\n",
       "      <td>296.099487</td>\n",
       "      <td>85.232063</td>\n",
       "      <td>193.672928</td>\n",
       "      <td>218.873856</td>\n",
       "      <td>524.590027</td>\n",
       "      <td>34.189999</td>\n",
       "      <td>364.385742</td>\n",
       "      <td>694.780029</td>\n",
       "    </tr>\n",
       "  </tbody>\n",
       "</table>\n",
       "<p>252 rows × 10 columns</p>\n",
       "</div>"
      ],
      "text/plain": [
       "                  AAPL       AUY         DIA         GE         IWM  \\\n",
       "Date                                                                  \n",
       "2020-01-02   73.785927  3.705322  275.016571  94.461693  161.172134   \n",
       "2020-01-03   73.068565  3.676893  272.824982  94.778419  160.540222   \n",
       "2020-01-06   73.650795  3.667416  273.453766  96.124489  160.754105   \n",
       "2020-01-07   73.304413  3.724275  272.272186  95.411850  160.219376   \n",
       "2020-01-08   74.483604  3.515791  273.854034  94.540871  160.715195   \n",
       "...                ...       ...         ...        ...         ...   \n",
       "2020-12-23  129.801285  5.468959  293.324707  86.425797  196.364914   \n",
       "2020-12-24  130.802338  5.430648  294.045197  84.754585  196.236694   \n",
       "2020-12-28  135.480560  5.392336  295.972961  84.675003  195.507034   \n",
       "2020-12-29  133.676666  5.401914  295.447144  84.038345  191.720520   \n",
       "2020-12-30  132.536850  5.648243  296.099487  85.232063  193.672928   \n",
       "\n",
       "                  MSFT        NFLX       PLUG         SPY        TSLA  \n",
       "Date                                                                   \n",
       "2020-01-02  156.924393  329.809998   3.240000  312.394989   86.052002  \n",
       "2020-01-03  154.970398  325.899994   3.230000  310.029541   88.601997  \n",
       "2020-01-06  155.370972  335.829987   3.820000  311.212250   90.307999  \n",
       "2020-01-07  153.954376  330.750000   3.810000  310.337280   93.811996  \n",
       "2020-01-08  156.406586  339.260010   4.080000  311.991211   98.428001  \n",
       "...                ...         ...        ...         ...         ...  \n",
       "2020-12-23  218.222198  514.479980  36.139999  360.056091  645.979980  \n",
       "2020-12-24  219.930283  513.969971  35.580002  361.456848  661.770020  \n",
       "2020-12-28  222.112350  519.119995  33.570000  364.562073  663.690002  \n",
       "2020-12-29  221.312592  530.869995  32.459999  363.866577  665.989990  \n",
       "2020-12-30  218.873856  524.590027  34.189999  364.385742  694.780029  \n",
       "\n",
       "[252 rows x 10 columns]"
      ]
     },
     "execution_count": 2,
     "metadata": {},
     "output_type": "execute_result"
    }
   ],
   "source": [
    "stocks = ['AAPL', 'MSFT', 'TSLA', 'NFLX', 'GE', 'AUY', 'PLUG', \"SPY\", \"IWM\", \"DIA\"]\n",
    "tickers = ['AAPL', 'MSFT', 'TSLA', 'NFLX', 'GE', 'AUY', 'PLUG']\n",
    "benches = [\"SPY\", \"IWM\", \"DIA\"]\n",
    "data = yf.download(stocks, start=\"2020-01-01\", end=\"2020-12-31\")[\"Adj Close\"] #ad_close\n",
    "data"
   ]
  },
  {
   "cell_type": "markdown",
   "id": "cc964a25-291a-4010-b56d-d3d883731f55",
   "metadata": {},
   "source": [
    "# Part 1"
   ]
  },
  {
   "cell_type": "code",
   "execution_count": 3,
   "id": "43c5380e-fb88-4c91-bbea-14a192dbf7ab",
   "metadata": {},
   "outputs": [],
   "source": [
    "weight =[1,1,1,1,1,1,1]"
   ]
  },
  {
   "cell_type": "markdown",
   "id": "e7bdb616-7412-40b3-8c5b-47374bdb61e9",
   "metadata": {},
   "source": [
    "## Volatility\n"
   ]
  },
  {
   "cell_type": "code",
   "execution_count": 4,
   "id": "d228d764-4bce-455f-a7b7-120359257269",
   "metadata": {},
   "outputs": [
    {
     "data": {
      "text/plain": [
       "array([ 3.49940094,  1.84446481,  8.10818243,  1.98081315,  5.8116494 ,\n",
       "        4.11938487, 10.37034696])"
      ]
     },
     "execution_count": 4,
     "metadata": {},
     "output_type": "execute_result"
    }
   ],
   "source": [
    "returnn = data[tickers].pct_change(66)\n",
    "volatility = returnn.std()\n",
    "volatility_annual = (volatility*np.sqrt(252)).to_numpy()\n",
    "volatility_annual"
   ]
  },
  {
   "cell_type": "markdown",
   "id": "74f9671b-3555-47d4-84e3-9498218a2ce7",
   "metadata": {},
   "source": [
    "## total & annual return"
   ]
  },
  {
   "cell_type": "markdown",
   "id": "459b7cab-4688-47ef-bb24-61b084bb133b",
   "metadata": {},
   "source": [
    "Daily_pct_change = todays_price - yesterdays_price/yesterdays_price *100\n",
    "\n",
    "annualized% = need to multiply our daily standard deviation by the square root of 252"
   ]
  },
  {
   "cell_type": "code",
   "execution_count": 5,
   "id": "461cc5d0-3380-4e4c-aa7c-7f9c9fa90cda",
   "metadata": {},
   "outputs": [
    {
     "name": "stdout",
     "output_type": "stream",
     "text": [
      "[*********************100%***********************]  10 of 10 completed\n",
      "[ 117.61283721  159.61844871 2099.58741098  295.21871516   -7.12792266\n",
      "   -9.59842856  236.94429742] [  7.40891234  10.05501714 132.26157489  18.59703102  -0.44901692\n",
      "  -0.60464417  14.92608775]\n"
     ]
    }
   ],
   "source": [
    "data2 = yf.download(stocks, period ='10y')[\"Adj Close\"]\n",
    "annualized_pct= ((data2[tickers].pct_change(len(data2)-1).iloc[-1])*np.sqrt(252)).to_numpy()\n",
    "total_return = (data2[tickers].pct_change(len(data2)-1).iloc[-1]).to_numpy()\n",
    "print(annualized_pct,total_return)"
   ]
  },
  {
   "cell_type": "markdown",
   "id": "fbce1f96-2d55-43ed-ad21-49f20c31a7f2",
   "metadata": {},
   "source": [
    "## Beta\n",
    "Beta is a measure of a stock’s volatility in relation to the overall market (S&P 500). The S&P 500 index has Beta 1.\n",
    "High-beta stocks are supposed to be riskier but provide higher potential return. While, low-beta stocks pose less risk but also lower returns.\n",
    "\n",
    "**Beta above 1: stock is more volatile than the market, but expects higher return.**\n",
    "**Beta below 1: stock with lower volatility, and expects less return.**"
   ]
  },
  {
   "cell_type": "code",
   "execution_count": 6,
   "id": "7e5d53c0-0157-41d8-911d-987f363b2745",
   "metadata": {},
   "outputs": [],
   "source": [
    "log_returns = np.log(data/data.shift())\n",
    "cov = log_returns.cov()\n",
    "beta_SPY =[]\n",
    "beta_IWM = []\n",
    "beta_DIA = []\n",
    "for stock in tickers:\n",
    "    var = log_returns[stock].var()\n",
    "    for bench in benches:\n",
    "        beta = cov.loc[bench, stock]/var\n",
    "        if bench == 'SPY':\n",
    "            beta_SPY.append(beta)\n",
    "        if bench == 'IWM':\n",
    "            beta_IWM.append(beta)\n",
    "        if bench =='DIA':\n",
    "            beta_DIA.append(beta)"
   ]
  },
  {
   "cell_type": "markdown",
   "id": "9566b6a3-13d8-4083-b1f8-5376219d7baa",
   "metadata": {},
   "source": [
    "## Max Drawdown — \n",
    "The worst possible return one could see, if they had bought high and sold low.\n",
    "Maximum drawdown measures the maximum fall in the value of the investment, as given by the difference between the value of the lowest trough and that of the highest peak before the trough."
   ]
  },
  {
   "cell_type": "code",
   "execution_count": 7,
   "id": "99168d44-23c1-497c-8cb8-3001eb9ee380",
   "metadata": {},
   "outputs": [],
   "source": [
    "def Max_drawdown(df, window=5, draw_type = 'max') :\n",
    "    if draw_type =='avg':\n",
    "         Roll_Max = df.rolling(window,min_periods=1).mean()\n",
    "    else:\n",
    "        Roll_Max = df.rolling(window,min_periods=1).max()\n",
    "        \n",
    "    Daily_Drawdown= df/Roll_Max -1\n",
    "\n",
    "    Max_Daily_Drawdown = Daily_Drawdown.rolling(window, min_periods=1).min()\n",
    "    \n",
    "    return Max_Daily_Drawdown"
   ]
  },
  {
   "cell_type": "code",
   "execution_count": 8,
   "id": "71f0694f-0a47-4742-99b3-c5e3f40a5fc0",
   "metadata": {},
   "outputs": [
    {
     "data": {
      "text/plain": [
       "array([[-0.04105442, -0.03968374, -0.0813381 , -0.04553247, -0.07227611,\n",
       "        -0.06962733, -0.08661327]])"
      ]
     },
     "execution_count": 8,
     "metadata": {},
     "output_type": "execute_result"
    }
   ],
   "source": [
    "max_drawdown = (Max_drawdown(data[tickers]).resample('Y').mean()).to_numpy()\n",
    "max_drawdown"
   ]
  },
  {
   "cell_type": "code",
   "execution_count": 9,
   "id": "70aeb422-817e-4ecc-b87f-6f689034e1a8",
   "metadata": {},
   "outputs": [
    {
     "data": {
      "text/plain": [
       "array([[-0.01827055, -0.01752701, -0.03405567, -0.02041568, -0.0343981 ,\n",
       "        -0.03321463, -0.03533574]])"
      ]
     },
     "execution_count": 9,
     "metadata": {},
     "output_type": "execute_result"
    }
   ],
   "source": [
    "avg_drawdown = (Max_drawdown(data[tickers], draw_type = 'avg').resample('Y').mean()).to_numpy()\n",
    "avg_drawdown"
   ]
  },
  {
   "cell_type": "markdown",
   "id": "a30de8f6-4702-4b04-afb6-78295888e540",
   "metadata": {},
   "source": [
    "Here we got the logarithmic return, or continuously compounded return. This return is the nominal return with the interest compounding every millisecond. To see how it is close to effective interest rate. Here we calculated the daily logarithmic return."
   ]
  },
  {
   "cell_type": "code",
   "execution_count": 10,
   "id": "d79e211e-5815-40e3-a586-086feceda595",
   "metadata": {},
   "outputs": [
    {
     "data": {
      "text/plain": [
       "array([ 117.61283721,  159.61844871, 2099.58741098,  295.21871516,\n",
       "         -7.12792266,   -9.59842856,  236.94429742])"
      ]
     },
     "execution_count": 10,
     "metadata": {},
     "output_type": "execute_result"
    }
   ],
   "source": [
    "annualized_pct"
   ]
  },
  {
   "cell_type": "markdown",
   "id": "a5dcd61c-6ad3-4d6a-84d2-630bf3276ee0",
   "metadata": {},
   "source": [
    "#annulaized return\n",
    "\n",
    "Annualized Return=(1+Cumulative Return)^(365/Days Held)\t −1"
   ]
  },
  {
   "cell_type": "code",
   "execution_count": 11,
   "id": "d8146e35-2451-49f8-8428-df5c170ebfd2",
   "metadata": {},
   "outputs": [
    {
     "data": {
      "text/html": [
       "<div>\n",
       "<style scoped>\n",
       "    .dataframe tbody tr th:only-of-type {\n",
       "        vertical-align: middle;\n",
       "    }\n",
       "\n",
       "    .dataframe tbody tr th {\n",
       "        vertical-align: top;\n",
       "    }\n",
       "\n",
       "    .dataframe thead th {\n",
       "        text-align: right;\n",
       "    }\n",
       "</style>\n",
       "<table border=\"1\" class=\"dataframe\">\n",
       "  <thead>\n",
       "    <tr style=\"text-align: right;\">\n",
       "      <th></th>\n",
       "      <th>Tickers</th>\n",
       "      <th>Weight</th>\n",
       "      <th>annual_volatility</th>\n",
       "      <th>beta_SPY</th>\n",
       "      <th>beta_IWM</th>\n",
       "      <th>beta_DIA</th>\n",
       "      <th>avg_draw</th>\n",
       "      <th>max_draw</th>\n",
       "      <th>Total_Return</th>\n",
       "      <th>Annualized_return</th>\n",
       "    </tr>\n",
       "  </thead>\n",
       "  <tbody>\n",
       "    <tr>\n",
       "      <th>0</th>\n",
       "      <td>AAPL</td>\n",
       "      <td>1</td>\n",
       "      <td>3.499401</td>\n",
       "      <td>0.600835</td>\n",
       "      <td>0.583039</td>\n",
       "      <td>0.613053</td>\n",
       "      <td>-0.018271</td>\n",
       "      <td>-0.041054</td>\n",
       "      <td>7.408912</td>\n",
       "      <td>117.612837</td>\n",
       "    </tr>\n",
       "    <tr>\n",
       "      <th>1</th>\n",
       "      <td>MSFT</td>\n",
       "      <td>1</td>\n",
       "      <td>1.844465</td>\n",
       "      <td>0.670543</td>\n",
       "      <td>0.656226</td>\n",
       "      <td>0.686988</td>\n",
       "      <td>-0.017527</td>\n",
       "      <td>-0.039684</td>\n",
       "      <td>10.055017</td>\n",
       "      <td>159.618449</td>\n",
       "    </tr>\n",
       "    <tr>\n",
       "      <th>2</th>\n",
       "      <td>TSLA</td>\n",
       "      <td>1</td>\n",
       "      <td>8.108182</td>\n",
       "      <td>0.185986</td>\n",
       "      <td>0.214847</td>\n",
       "      <td>0.187836</td>\n",
       "      <td>-0.034056</td>\n",
       "      <td>-0.081338</td>\n",
       "      <td>132.261575</td>\n",
       "      <td>2099.587411</td>\n",
       "    </tr>\n",
       "    <tr>\n",
       "      <th>3</th>\n",
       "      <td>NFLX</td>\n",
       "      <td>1</td>\n",
       "      <td>1.980813</td>\n",
       "      <td>0.359710</td>\n",
       "      <td>0.334870</td>\n",
       "      <td>0.336625</td>\n",
       "      <td>-0.020416</td>\n",
       "      <td>-0.045532</td>\n",
       "      <td>18.597031</td>\n",
       "      <td>295.218715</td>\n",
       "    </tr>\n",
       "    <tr>\n",
       "      <th>4</th>\n",
       "      <td>GE</td>\n",
       "      <td>1</td>\n",
       "      <td>5.811649</td>\n",
       "      <td>0.369178</td>\n",
       "      <td>0.486224</td>\n",
       "      <td>0.434747</td>\n",
       "      <td>-0.034398</td>\n",
       "      <td>-0.072276</td>\n",
       "      <td>-0.449017</td>\n",
       "      <td>-7.127923</td>\n",
       "    </tr>\n",
       "    <tr>\n",
       "      <th>5</th>\n",
       "      <td>AUY</td>\n",
       "      <td>1</td>\n",
       "      <td>4.119385</td>\n",
       "      <td>0.143554</td>\n",
       "      <td>0.146942</td>\n",
       "      <td>0.137052</td>\n",
       "      <td>-0.033215</td>\n",
       "      <td>-0.069627</td>\n",
       "      <td>-0.604644</td>\n",
       "      <td>-9.598429</td>\n",
       "    </tr>\n",
       "    <tr>\n",
       "      <th>6</th>\n",
       "      <td>PLUG</td>\n",
       "      <td>1</td>\n",
       "      <td>10.370347</td>\n",
       "      <td>0.175357</td>\n",
       "      <td>0.230744</td>\n",
       "      <td>0.192523</td>\n",
       "      <td>-0.035336</td>\n",
       "      <td>-0.086613</td>\n",
       "      <td>14.926088</td>\n",
       "      <td>236.944297</td>\n",
       "    </tr>\n",
       "  </tbody>\n",
       "</table>\n",
       "</div>"
      ],
      "text/plain": [
       "  Tickers  Weight  annual_volatility  beta_SPY  beta_IWM  beta_DIA  avg_draw  \\\n",
       "0    AAPL       1           3.499401  0.600835  0.583039  0.613053 -0.018271   \n",
       "1    MSFT       1           1.844465  0.670543  0.656226  0.686988 -0.017527   \n",
       "2    TSLA       1           8.108182  0.185986  0.214847  0.187836 -0.034056   \n",
       "3    NFLX       1           1.980813  0.359710  0.334870  0.336625 -0.020416   \n",
       "4      GE       1           5.811649  0.369178  0.486224  0.434747 -0.034398   \n",
       "5     AUY       1           4.119385  0.143554  0.146942  0.137052 -0.033215   \n",
       "6    PLUG       1          10.370347  0.175357  0.230744  0.192523 -0.035336   \n",
       "\n",
       "   max_draw  Total_Return  Annualized_return  \n",
       "0 -0.041054      7.408912         117.612837  \n",
       "1 -0.039684     10.055017         159.618449  \n",
       "2 -0.081338    132.261575        2099.587411  \n",
       "3 -0.045532     18.597031         295.218715  \n",
       "4 -0.072276     -0.449017          -7.127923  \n",
       "5 -0.069627     -0.604644          -9.598429  \n",
       "6 -0.086613     14.926088         236.944297  "
      ]
     },
     "execution_count": 11,
     "metadata": {},
     "output_type": "execute_result"
    }
   ],
   "source": [
    "vals = {'Tickers': tickers, \"Weight\": weight, \"annual_volatility\":volatility_annual, \"beta_SPY\":beta_SPY, \"beta_IWM\":beta_IWM,\n",
    "       \"beta_DIA\": beta_DIA, \"avg_draw\":avg_drawdown[0], \"max_draw\":max_drawdown[0], \"Total_Return\": total_return,\n",
    "        \"Annualized_return\":annualized_pct}\n",
    "risk_table = pd.DataFrame(vals)\n",
    "risk_table"
   ]
  },
  {
   "cell_type": "code",
   "execution_count": null,
   "id": "4e20336a-05e4-4441-a8e1-ee891bea1270",
   "metadata": {},
   "outputs": [],
   "source": []
  },
  {
   "cell_type": "markdown",
   "id": "c05ff0a8-132b-4aab-b2ec-475741269146",
   "metadata": {},
   "source": [
    "# part 2\n",
    "Portfolio Risk against 3 ETF's"
   ]
  },
  {
   "cell_type": "code",
   "execution_count": 12,
   "id": "65074961-c35c-490b-b423-6a52cc4d9389",
   "metadata": {},
   "outputs": [],
   "source": [
    "#column1:\n",
    "benches = [\"SPY\", \"IWM\", \"DIA\"]"
   ]
  },
  {
   "cell_type": "markdown",
   "id": "bca6863e-85e8-47dd-8964-8a0f09f89568",
   "metadata": {},
   "source": [
    "# correlation\n",
    "Because I'm looking at my stocks as whole I would like to compare the mean of the daily return of all of them and see how correlated they are with the benchmarks. I take the daily return of the stocks and take the mean of all of them combined. Then I take the daily retun of the benchmark and compare the two. To calculate the correlation I first need the covariance. The scatter plot shows a positive correlation among the two variables"
   ]
  },
  {
   "cell_type": "code",
   "execution_count": 78,
   "id": "ebcdd7eb-4b3e-4ee5-8ced-7633d621fb94",
   "metadata": {},
   "outputs": [
    {
     "name": "stderr",
     "output_type": "stream",
     "text": [
      "/Users/jenifervivar/opt/anaconda3/lib/python3.9/site-packages/seaborn/_decorators.py:36: FutureWarning: Pass the following variables as keyword args: x, y. From version 0.12, the only valid positional argument will be `data`, and passing other arguments without an explicit keyword will result in an error or misinterpretation.\n",
      "  warnings.warn(\n"
     ]
    },
    {
     "data": {
      "text/plain": [
       "<seaborn.axisgrid.JointGrid at 0x7f77bcde0fd0>"
      ]
     },
     "execution_count": 78,
     "metadata": {},
     "output_type": "execute_result"
    },
    {
     "data": {
      "image/png": "[encoded data removed]",
      "text/plain": [
       "<Figure size 432x432 with 3 Axes>"
      ]
     },
     "metadata": {
      "needs_background": "light"
     },
     "output_type": "display_data"
    }
   ],
   "source": [
    "p = data[tickers].pct_change().mean(axis = 1).dropna()\n",
    "t = data[benches[0]].pct_change().dropna()\n",
    "sns.jointplot(p, t)"
   ]
  },
  {
   "cell_type": "code",
   "execution_count": 79,
   "id": "707491e1-f943-42b2-bad5-b93f8a480627",
   "metadata": {},
   "outputs": [
    {
     "data": {
      "text/plain": [
       "(0.8218127151548962, 9.008830447818247e-63)"
      ]
     },
     "execution_count": 79,
     "metadata": {},
     "output_type": "execute_result"
    }
   ],
   "source": [
    "from scipy import stats\n",
    "corr, p_val =  stats.pearsonr(p,t)"
   ]
  },
  {
   "cell_type": "code",
   "execution_count": 86,
   "id": "e4326d69-ae1e-4960-987b-468d8c05b42c",
   "metadata": {},
   "outputs": [],
   "source": [
    "\n",
    "corr =[]\n",
    "portf_return = (data[tickers].pct_change().mean(axis = 1)).dropna()\n",
    "for bench in benches:\n",
    "    etf_return =data[bench].pct_change().dropna()\n",
    "    #cov_ = np.cov(portf_return[1], etf_return[1])\n",
    "    corr_, _ = stats.pearsonr(portf_return, etf_return)\n",
    "    corr.append(corr_)"
   ]
  },
  {
   "cell_type": "markdown",
   "id": "9615e5f1-f856-4a57-97e4-0be54d783db2",
   "metadata": {},
   "source": [
    "The values in the portfoli seem to be well correlated to the values in the benchmarks. This means that the stocks in the portfolio are generally good because the correlation values are closer to one"
   ]
  },
  {
   "cell_type": "code",
   "execution_count": 87,
   "id": "79ca7684-2d61-4a2c-b8b2-946ae5fa4417",
   "metadata": {},
   "outputs": [
    {
     "name": "stdout",
     "output_type": "stream",
     "text": [
      "[0.8218127151548962, 0.757716837567611, 0.787077199692848]\n"
     ]
    }
   ],
   "source": [
    "print(corr)"
   ]
  },
  {
   "cell_type": "markdown",
   "id": "cc837f8a-b2eb-47a0-b884-f9ea555477dd",
   "metadata": {},
   "source": [
    "# covariance"
   ]
  },
  {
   "cell_type": "code",
   "execution_count": null,
   "id": "d1a37016-5218-4175-8c6f-644e94d2412c",
   "metadata": {},
   "outputs": [],
   "source": []
  },
  {
   "cell_type": "code",
   "execution_count": 104,
   "id": "59379363-86e9-4dec-95d9-af00cfe2a2d1",
   "metadata": {},
   "outputs": [
    {
     "data": {
      "text/html": [
       "<div>\n",
       "<style scoped>\n",
       "    .dataframe tbody tr th:only-of-type {\n",
       "        vertical-align: middle;\n",
       "    }\n",
       "\n",
       "    .dataframe tbody tr th {\n",
       "        vertical-align: top;\n",
       "    }\n",
       "\n",
       "    .dataframe thead th {\n",
       "        text-align: right;\n",
       "    }\n",
       "</style>\n",
       "<table border=\"1\" class=\"dataframe\">\n",
       "  <thead>\n",
       "    <tr style=\"text-align: right;\">\n",
       "      <th></th>\n",
       "      <th>AAPL</th>\n",
       "      <th>MSFT</th>\n",
       "      <th>TSLA</th>\n",
       "      <th>NFLX</th>\n",
       "      <th>GE</th>\n",
       "      <th>AUY</th>\n",
       "      <th>PLUG</th>\n",
       "    </tr>\n",
       "  </thead>\n",
       "  <tbody>\n",
       "    <tr>\n",
       "      <th>AAPL</th>\n",
       "      <td>0.000868</td>\n",
       "      <td>0.000686</td>\n",
       "      <td>0.000786</td>\n",
       "      <td>0.000482</td>\n",
       "      <td>0.000483</td>\n",
       "      <td>0.000298</td>\n",
       "      <td>0.000726</td>\n",
       "    </tr>\n",
       "    <tr>\n",
       "      <th>MSFT</th>\n",
       "      <td>0.000686</td>\n",
       "      <td>0.000769</td>\n",
       "      <td>0.000791</td>\n",
       "      <td>0.000484</td>\n",
       "      <td>0.000495</td>\n",
       "      <td>0.000268</td>\n",
       "      <td>0.000744</td>\n",
       "    </tr>\n",
       "    <tr>\n",
       "      <th>TSLA</th>\n",
       "      <td>0.000786</td>\n",
       "      <td>0.000791</td>\n",
       "      <td>0.003188</td>\n",
       "      <td>0.000696</td>\n",
       "      <td>0.000539</td>\n",
       "      <td>0.000633</td>\n",
       "      <td>0.001328</td>\n",
       "    </tr>\n",
       "    <tr>\n",
       "      <th>NFLX</th>\n",
       "      <td>0.000482</td>\n",
       "      <td>0.000484</td>\n",
       "      <td>0.000696</td>\n",
       "      <td>0.000850</td>\n",
       "      <td>0.000121</td>\n",
       "      <td>0.000244</td>\n",
       "      <td>0.000600</td>\n",
       "    </tr>\n",
       "    <tr>\n",
       "      <th>GE</th>\n",
       "      <td>0.000483</td>\n",
       "      <td>0.000495</td>\n",
       "      <td>0.000539</td>\n",
       "      <td>0.000121</td>\n",
       "      <td>0.001580</td>\n",
       "      <td>0.000078</td>\n",
       "      <td>0.000875</td>\n",
       "    </tr>\n",
       "    <tr>\n",
       "      <th>AUY</th>\n",
       "      <td>0.000298</td>\n",
       "      <td>0.000268</td>\n",
       "      <td>0.000633</td>\n",
       "      <td>0.000244</td>\n",
       "      <td>0.000078</td>\n",
       "      <td>0.001721</td>\n",
       "      <td>0.000629</td>\n",
       "    </tr>\n",
       "    <tr>\n",
       "      <th>PLUG</th>\n",
       "      <td>0.000726</td>\n",
       "      <td>0.000744</td>\n",
       "      <td>0.001328</td>\n",
       "      <td>0.000600</td>\n",
       "      <td>0.000875</td>\n",
       "      <td>0.000629</td>\n",
       "      <td>0.003788</td>\n",
       "    </tr>\n",
       "  </tbody>\n",
       "</table>\n",
       "</div>"
      ],
      "text/plain": [
       "          AAPL      MSFT      TSLA      NFLX        GE       AUY      PLUG\n",
       "AAPL  0.000868  0.000686  0.000786  0.000482  0.000483  0.000298  0.000726\n",
       "MSFT  0.000686  0.000769  0.000791  0.000484  0.000495  0.000268  0.000744\n",
       "TSLA  0.000786  0.000791  0.003188  0.000696  0.000539  0.000633  0.001328\n",
       "NFLX  0.000482  0.000484  0.000696  0.000850  0.000121  0.000244  0.000600\n",
       "GE    0.000483  0.000495  0.000539  0.000121  0.001580  0.000078  0.000875\n",
       "AUY   0.000298  0.000268  0.000633  0.000244  0.000078  0.001721  0.000629\n",
       "PLUG  0.000726  0.000744  0.001328  0.000600  0.000875  0.000629  0.003788"
      ]
     },
     "execution_count": 104,
     "metadata": {},
     "output_type": "execute_result"
    }
   ],
   "source": [
    "(data[tickers].pct_change().cov())"
   ]
  },
  {
   "cell_type": "markdown",
   "id": "7c4f0d7a-80e2-4e2b-a16b-2e46b575eb3d",
   "metadata": {},
   "source": [
    "# Tracking Errors \n",
    "In finance, tracking error or active risk is a measure of the risk in an investment portfolio that is due to active management decisions made by the portfolio manager; it indicates how closely a portfolio follows the index to which it is benchmarked.\n",
    "\n",
    "**Tracking Error = Standard Deviation of (P - B)**\n",
    "\n",
    "Where P is portfolio return and B is benchmark return"
   ]
  },
  {
   "cell_type": "code",
   "execution_count": 124,
   "id": "66b3e31d-d06a-4466-95e9-76e58e83351f",
   "metadata": {},
   "outputs": [
    {
     "data": {
      "text/plain": [
       "[0.012836935659934913, 0.013386314941813613, 0.013782120082751311]"
      ]
     },
     "execution_count": 124,
     "metadata": {},
     "output_type": "execute_result"
    }
   ],
   "source": [
    "tracking_Errors = []\n",
    "portf_return = (data2[tickers].pct_change().mean(axis = 1)).dropna()\n",
    "for bench in benches:\n",
    "    etf_return =data2[bench].pct_change().dropna()\n",
    "    TErr = np.std(portf_return-etf_return)\n",
    "    tracking_Errors.append(TErr)\n",
    "tracking_Errors"
   ]
  },
  {
   "cell_type": "markdown",
   "id": "359951eb-d24e-4b73-a497-781c278605ec",
   "metadata": {},
   "source": [
    "#  Sharpe Ratio\n",
    "is used to help investors understand the return of an investment compared to its risk. The ratio is the average return earned in excess of the risk-free rate per unit of volatility or total risk. Volatility is a measure of the price fluctuations of an asset or portfolio.\n",
    " \n",
    "SR  = R_p-R_f/std_P\n",
    "\n",
    "R_f =  -6.26% (https://www.forbes.com/advisor/investing/risk-free-rate/)\n"
   ]
  },
  {
   "cell_type": "code",
   "execution_count": 117,
   "id": "020aebdb-57d5-46b1-8b6b-dad9aeaf1d19",
   "metadata": {},
   "outputs": [],
   "source": [
    "sharpe_r = []\n",
    "\n",
    "R_f =  -0.0626\n",
    "for bench in benches:\n",
    "    etf_return =data[bench].pct_change().dropna()\n",
    "    SR =(etf_return - R_f).mean()/(etf_return).std()\n",
    "    sharpe_r.append(SR)\n",
    "    "
   ]
  },
  {
   "cell_type": "code",
   "execution_count": null,
   "id": "8c334b4b-3ffe-4f52-80e1-2b6bee67d644",
   "metadata": {},
   "outputs": [],
   "source": [
    "log_return = np.sum(np.log(data/data.shift())*portfolio, axis=1)\n",
    "sharpe_ratio = log_return.mean()/log_return.std()"
   ]
  },
  {
   "cell_type": "markdown",
   "id": "df6b1075-183f-4ceb-9e0b-3b698c6dd202",
   "metadata": {},
   "source": [
    "# Anualized Volatility"
   ]
  },
  {
   "cell_type": "code",
   "execution_count": null,
   "id": "9eab6046-3142-4593-a32e-7c6a3c984b9d",
   "metadata": {},
   "outputs": [],
   "source": []
  },
  {
   "cell_type": "code",
   "execution_count": null,
   "id": "7969925b-d81c-48ec-bb80-52a8b694eefc",
   "metadata": {},
   "outputs": [],
   "source": []
  },
  {
   "cell_type": "markdown",
   "id": "31812569-82c4-46a4-92ad-a11b532dbc61",
   "metadata": {},
   "source": [
    "# table so far"
   ]
  },
  {
   "cell_type": "code",
   "execution_count": 126,
   "id": "ab132c89-447d-4e5d-bfee-21dfe879aaf9",
   "metadata": {},
   "outputs": [
    {
     "data": {
      "text/html": [
       "<div>\n",
       "<style scoped>\n",
       "    .dataframe tbody tr th:only-of-type {\n",
       "        vertical-align: middle;\n",
       "    }\n",
       "\n",
       "    .dataframe tbody tr th {\n",
       "        vertical-align: top;\n",
       "    }\n",
       "\n",
       "    .dataframe thead th {\n",
       "        text-align: right;\n",
       "    }\n",
       "</style>\n",
       "<table border=\"1\" class=\"dataframe\">\n",
       "  <thead>\n",
       "    <tr style=\"text-align: right;\">\n",
       "      <th></th>\n",
       "      <th>ETF</th>\n",
       "      <th>Correlation</th>\n",
       "      <th>tracking_error</th>\n",
       "      <th>Sharpe_ratio</th>\n",
       "    </tr>\n",
       "  </thead>\n",
       "  <tbody>\n",
       "    <tr>\n",
       "      <th>0</th>\n",
       "      <td>SPY</td>\n",
       "      <td>0.821813</td>\n",
       "      <td>0.012837</td>\n",
       "      <td>3.004500</td>\n",
       "    </tr>\n",
       "    <tr>\n",
       "      <th>1</th>\n",
       "      <td>IWM</td>\n",
       "      <td>0.757717</td>\n",
       "      <td>0.013386</td>\n",
       "      <td>2.488645</td>\n",
       "    </tr>\n",
       "    <tr>\n",
       "      <th>2</th>\n",
       "      <td>DIA</td>\n",
       "      <td>0.787077</td>\n",
       "      <td>0.013782</td>\n",
       "      <td>2.738172</td>\n",
       "    </tr>\n",
       "  </tbody>\n",
       "</table>\n",
       "</div>"
      ],
      "text/plain": [
       "   ETF  Correlation  tracking_error  Sharpe_ratio\n",
       "0  SPY     0.821813        0.012837      3.004500\n",
       "1  IWM     0.757717        0.013386      2.488645\n",
       "2  DIA     0.787077        0.013782      2.738172"
      ]
     },
     "execution_count": 126,
     "metadata": {},
     "output_type": "execute_result"
    }
   ],
   "source": [
    "data_2 = {'ETF':benches, \"Correlation\": corr, \"tracking_error\":tracking_Errors,\"Sharpe_ratio\":sharpe_r}\n",
    "risk_vs_ETF = pd.DataFrame(data_2)\n",
    "risk_vs_ETF"
   ]
  },
  {
   "cell_type": "code",
   "execution_count": null,
   "id": "9b732664-b25a-43ec-a765-8a1bc4b33bcf",
   "metadata": {},
   "outputs": [],
   "source": []
  }
 ],
 "metadata": {
  "kernelspec": {
   "display_name": "Python 3 (ipykernel)",
   "language": "python",
   "name": "python3"
  },
  "language_info": {
   "codemirror_mode": {
    "name": "ipython",
    "version": 3
   },
   "file_extension": ".py",
   "mimetype": "text/x-python",
   "name": "python",
   "nbconvert_exporter": "python",
   "pygments_lexer": "ipython3",
   "version": "3.9.12"
  }
 },
 "nbformat": 4,
 "nbformat_minor": 5
}
