{
  "nbformat": 4,
  "nbformat_minor": 0,
  "metadata": {
    "colab": {
      "name": "Huihuang_Liu_HW1_both_parts_revised.ipynb",
      "provenance": [],
      "collapsed_sections": []
    },
    "kernelspec": {
      "name": "python3",
      "display_name": "Python 3"
    },
    "language_info": {
      "name": "python"
    }
  },
  "cells": [
    {
      "cell_type": "code",
      "execution_count": 131,
      "metadata": {
        "colab": {
          "base_uri": "https://localhost:8080/",
          "height": 0
        },
        "id": "Zm2h76QiE7gG",
        "outputId": "d86898cb-e613-4711-9650-93003c278e4a"
      },
      "outputs": [
        {
          "output_type": "stream",
          "name": "stdout",
          "text": [
            "Looking in indexes: https://pypi.org/simple, https://us-python.pkg.dev/colab-wheels/public/simple/\n",
            "Requirement already satisfied: yfinance in /usr/local/lib/python3.7/dist-packages (0.1.74)\n",
            "Requirement already satisfied: multitasking>=0.0.7 in /usr/local/lib/python3.7/dist-packages (from yfinance) (0.0.11)\n",
            "Requirement already satisfied: pandas>=0.24.0 in /usr/local/lib/python3.7/dist-packages (from yfinance) (1.3.5)\n",
            "Requirement already satisfied: numpy>=1.15 in /usr/local/lib/python3.7/dist-packages (from yfinance) (1.21.6)\n",
            "Requirement already satisfied: requests>=2.26 in /usr/local/lib/python3.7/dist-packages (from yfinance) (2.28.1)\n",
            "Requirement already satisfied: lxml>=4.5.1 in /usr/local/lib/python3.7/dist-packages (from yfinance) (4.9.1)\n",
            "Requirement already satisfied: python-dateutil>=2.7.3 in /usr/local/lib/python3.7/dist-packages (from pandas>=0.24.0->yfinance) (2.8.2)\n",
            "Requirement already satisfied: pytz>=2017.3 in /usr/local/lib/python3.7/dist-packages (from pandas>=0.24.0->yfinance) (2022.1)\n",
            "Requirement already satisfied: six>=1.5 in /usr/local/lib/python3.7/dist-packages (from python-dateutil>=2.7.3->pandas>=0.24.0->yfinance) (1.15.0)\n",
            "Requirement already satisfied: certifi>=2017.4.17 in /usr/local/lib/python3.7/dist-packages (from requests>=2.26->yfinance) (2022.6.15)\n",
            "Requirement already satisfied: urllib3<1.27,>=1.21.1 in /usr/local/lib/python3.7/dist-packages (from requests>=2.26->yfinance) (1.24.3)\n",
            "Requirement already satisfied: charset-normalizer<3,>=2 in /usr/local/lib/python3.7/dist-packages (from requests>=2.26->yfinance) (2.1.0)\n",
            "Requirement already satisfied: idna<4,>=2.5 in /usr/local/lib/python3.7/dist-packages (from requests>=2.26->yfinance) (2.10)\n"
          ]
        }
      ],
      "source": [
        "pip install yfinance"
      ]
    },
    {
      "cell_type": "code",
      "source": [
        "import pandas as pd\n",
        "import yfinance as yf\n",
        "import numpy as np"
      ],
      "metadata": {
        "id": "BLdWrpmdE8Ug"
      },
      "execution_count": 132,
      "outputs": []
    },
    {
      "cell_type": "code",
      "source": [
        "current_age= int(input(' What is your current age? '))\n",
        "retire_age = int(input(' What is your expected retiring age? '))\n",
        "balance = int(input(' What is your current 401k balance? ').replace(',', ''))\n",
        "inf_adj_balance=balance\n",
        "employee_contribution= int(input(' How much are you contributing per year?').replace(',', ''))\n",
        "etf=input('Please input a benchmark? SPY | IWM | DIA').upper()\n",
        "salary = int(input('What is your annual salary? ').replace(',', ''))\n",
        "salary_increase=int(input(' What is your expected rate of annual salary increase, in whole number % '))/100\n",
        "matching_rate = int(input(' What is the 401k matching rate, in whole number % '))/100\n",
        "inflation_rate= int(input(' What is the inflation rate, in whole number % '))/100\n",
        "discount_rate= int(input(' What is the discount rate, in whole number % '))/100\n",
        "\n",
        "# current_age= 24\n",
        "# retire_age = 67\n",
        "# balance = 30000\n",
        "# inf_adj_balance=balance\n",
        "# employee_contribution= 20500\n",
        "# etf='SPY'\n",
        "# salary = 100000\n",
        "# salary_increase=2/100\n",
        "# matching_rate = 5/100\n",
        "# inflation_rate= 2/100\n",
        "# discount_rate= 2/100\n",
        "\n",
        "df = pd.DataFrame(yf.download(etf, period='10y')['Adj Close'])\n",
        "ror = df['Adj Close'].pct_change(251).mean()/26. # 26 biweeks\n",
        "period=0\n",
        "year=0\n",
        "inf_adjusted_ror = ((1+ror)/(1+inflation_rate/26))-1\n",
        "for age in np.arange(current_age, retire_age, 1/26):\n",
        "    period+=1\n",
        "    if period % 26 ==0:\n",
        "      salary = salary*(1+salary_increase)\n",
        "      year+=1\n",
        "    else:\n",
        "      salary==salary\n",
        "      year== year\n",
        "    if (employee_contribution / salary) >= matching_rate:\n",
        "        matching = salary * matching_rate\n",
        "    else:\n",
        "        matching = salary * (employee_contribution / salary)\n",
        "    bi_weekly_employ_cont = employee_contribution/26\n",
        "    bi_weekly_matching = matching/26\n",
        "    balance = (balance * (ror + 1)) + bi_weekly_employ_cont + bi_weekly_matching\n",
        "    inf_adj_balance= (inf_adj_balance * (inf_adjusted_ror + 1)) + bi_weekly_employ_cont + bi_weekly_matching\n",
        "  \n",
        "    npv_1= balance/(1+discount_rate/26)**year      # when time of the cash flow is lower, using year\n",
        "    # npv_1 = balance/(1+(discount_rate/26))**period    #when time of the cash flow is higher, using period\n",
        "    npv_2 = inf_adj_balance/(1+(discount_rate/26))**year\n",
        "print('At the scheduled biweekly pay period:', period, ', expected age:', int(age), ', your 401k retirement plan balance before inflation adjustment is: $',\"{:.2f}\".format(balance),'\\n',\n",
        "'which has a NPV of: $', \"{:.2f}\".format(npv_1), 'at the discount rate of:',discount_rate*100,'%',\n",
        "      ', your 401k retirement plan balance after inflation adjustment is: $', \"{:.2f}\".format(inf_adj_balance),'\\n', 'which has a NPV of: $', \"{:.2f}\".format(npv_2), 'at the discount rate of:',discount_rate*100,'%')\n",
        "     \n"
      ],
      "metadata": {
        "colab": {
          "base_uri": "https://localhost:8080/",
          "height": 0
        },
        "id": "eLqtywTRSI5y",
        "outputId": "a8e0949d-ee4c-4ce0-fadf-29c37a986def"
      },
      "execution_count": 133,
      "outputs": [
        {
          "output_type": "stream",
          "name": "stdout",
          "text": [
            " What is your current age? 24\n",
            " What is your expected retiring age? 67\n",
            " What is your current 401k balance? 30000\n",
            " How much are you contributing per year?20500\n",
            "Please input a benchmark? SPY | IWM | DIAspy\n",
            "What is your annual salary? 100000\n",
            " What is your expected rate of annual salary increase, in whole number % 2\n",
            " What is the 401k matching rate, in whole number % 5\n",
            " What is the inflation rate, in whole number % 2\n",
            " What is the discount rate, in whole number % 2\n",
            "[*********************100%***********************]  1 of 1 completed\n",
            "At the scheduled biweekly pay period: 1118 , expected age: 66 , your 401k retirement plan balance before inflation adjustment is: $ 136068291.78 \n",
            " which has a NPV of: $ 131642866.28 at the discount rate of: 2.0 % , your 401k retirement plan balance after inflation adjustment is: $ 65218103.24 \n",
            " which has a NPV of: $ 63096978.22 at the discount rate of: 2.0 %\n"
          ]
        }
      ]
    },
    {
      "cell_type": "code",
      "source": [
        "current_age= int(input(' What is your current age? '))\n",
        "retire_target = int(input('Your expected balance needed to retire? ').replace(',', ''))\n",
        "balance = int(input(' What is your current 401k balance? ').replace(',', ''))\n",
        "employee_contribution= int(input(' How much are you contributing per year?').replace(',', ''))\n",
        "etf=input('Please input a benchmark? SPY | IWM | DIA').upper()\n",
        "salary = int(input('What is your annual salary? ').replace(',', ''))\n",
        "salary_increase=int(input(' What is your expected rate of annual salary increase, in whole number % '))/100\n",
        "matching_rate = int(input(' What is the 401k matching rate, in whole number % '))/100\n",
        "inflation_rate= int(input(' What is the inflation rate, in whole number % '))/100\n",
        "discount_rate= int(input(' What is the discount rate, in whole number % '))/100\n",
        "\n",
        "\n",
        "# current_age= 24\n",
        "# retire_target = 3000000\n",
        "# balance = 30000\n",
        "# employee_contribution= 20500\n",
        "# etf='SPY'\n",
        "# salary = 100000\n",
        "# salary_increase=2/100\n",
        "# matching_rate = 5/100\n",
        "# inflation_rate= 2/100\n",
        "# discount_rate= 2/100\n",
        "\n",
        "df = pd.DataFrame(yf.download(etf, period='10y')['Adj Close'])\n",
        "ror = df['Adj Close'].pct_change(251).mean()/26. # 26 biweeks\n",
        "period=0\n",
        "year=0\n",
        "inf_adjusted_ror = ((1+ror)/(1+inflation_rate/26))-1\n",
        "while balance < retire_target:    \n",
        "    period+=1\n",
        "    if period % 26 ==0:\n",
        "      salary = salary*(1+salary_increase)\n",
        "      year+=1\n",
        "    else:\n",
        "      salary==salary\n",
        "      year== year\n",
        "    if (employee_contribution / salary) >= matching_rate:\n",
        "        matching = salary * matching_rate\n",
        "    else:\n",
        "        matching = salary * (employee_contribution / salary)\n",
        "    bi_weekly_employ_cont = employee_contribution/26\n",
        "    bi_weekly_matching = matching/26\n",
        "    balance = (balance * (inf_adjusted_ror + 1)) + bi_weekly_employ_cont + bi_weekly_matching\n",
        "    current_age+=1/26\n",
        "    # inf_adj_balance= (inf_adj_balance * (inf_adjusted_ror + 1)) + bi_weekly_employ_cont + bi_weekly_matching\n",
        "  \n",
        "    npv_1= balance/(1+discount_rate/26)**year      # when time of the cash flow is lower, using year\n",
        "    # npv_1 = balance/(1+(discount_rate/26))**period    #when time of the cash flow is higher, using period\n",
        "    # npv_2 = inf_adj_balance/(1+(discount_rate/26))**year  \n",
        "print('At the scheduled biweekly pay period:', period, ', with the expected age:', int(current_age), ', you can achieve at your retirement target of: $', \"{:.2f}\".format(retire_target),\n",
        " '\\n','after adjustment for inflation at', inflation_rate*100,'%', ', this balance has a NPV of: $',\"{:.2f}\".format(npv_1),'at the discount rate of:', discount_rate*100,'%')\n",
        "      "
      ],
      "metadata": {
        "colab": {
          "base_uri": "https://localhost:8080/",
          "height": 0
        },
        "id": "cqrFTCiVf5Tq",
        "outputId": "4107bb36-9889-41df-d012-28bf137d34f4"
      },
      "execution_count": 134,
      "outputs": [
        {
          "output_type": "stream",
          "name": "stdout",
          "text": [
            " What is your current age? 24\n",
            "Your expected balance needed to retire? 3000000\n",
            " What is your current 401k balance? 30000\n",
            " How much are you contributing per year?20500\n",
            "Please input a benchmark? SPY | IWM | DIAspy\n",
            "What is your annual salary? 100000\n",
            " What is your expected rate of annual salary increase, in whole number % 2\n",
            " What is the 401k matching rate, in whole number % 5\n",
            " What is the inflation rate, in whole number % 2\n",
            " What is the discount rate, in whole number % 2\n",
            "[*********************100%***********************]  1 of 1 completed\n",
            "At the scheduled biweekly pay period: 523 , with the expected age: 44 , you can achieve at your retirement target of: $ 3000000.00 \n",
            " after adjustment for inflation at 2.0 % , this balance has a NPV of: $ 2966371.03 at the discount rate of: 2.0 %\n"
          ]
        }
      ]
    },
    {
      "cell_type": "markdown",
      "source": [
        "CODE OR OTHER SOURCE:[link text](https://)"
      ],
      "metadata": {
        "id": "ti70f47Pch3W"
      }
    },
    {
      "cell_type": "markdown",
      "source": [
        "I want acknowledge the cited works from professor John Droescher\n",
        "\n",
        "https://www.bankrate.com/retirement/retirement-plan-calculator/"
      ],
      "metadata": {
        "id": "GtXzW6bxcxAp"
      }
    }
  ]
}